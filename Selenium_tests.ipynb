{
 "cells": [
  {
   "cell_type": "code",
   "execution_count": 23,
   "metadata": {},
   "outputs": [],
   "source": [
    "from selenium import webdriver\n",
    "from selenium.webdriver.common.keys import Keys\n",
    "from selenium.webdriver.common.by import By\n",
    "from selenium.webdriver.support.ui import WebDriverWait\n",
    "from selenium.webdriver.support import expected_conditions as EC\n",
    "from datetime import datetime\n",
    "from datetime import timedelta\n",
    "import time\n",
    "import json\n",
    "import pandas as pd\n",
    "import sqlite3"
   ]
  },
  {
   "cell_type": "code",
   "execution_count": null,
   "metadata": {},
   "outputs": [],
   "source": [
    "PATH = '/Users/jason/Documents/github/Webdrivers/chromedriver'"
   ]
  },
  {
   "cell_type": "code",
   "execution_count": null,
   "metadata": {},
   "outputs": [],
   "source": [
    "#opens an instance of chrome\n",
    "driver = webdriver.Chrome(PATH)"
   ]
  },
  {
   "cell_type": "code",
   "execution_count": null,
   "metadata": {},
   "outputs": [],
   "source": [
    "#opens a specific webpage\n",
    "webpage = 'https://techwithtim.net'\n",
    "driver.get(webpage)"
   ]
  },
  {
   "cell_type": "code",
   "execution_count": null,
   "metadata": {},
   "outputs": [],
   "source": [
    "#prints out title on tab\n",
    "print(driver.title)"
   ]
  },
  {
   "cell_type": "code",
   "execution_count": null,
   "metadata": {},
   "outputs": [],
   "source": [
    "#searching in html hierarchy\n",
    "#1. - id\n",
    "#2. - name\n",
    "#3. - class\n"
   ]
  },
  {
   "cell_type": "code",
   "execution_count": null,
   "metadata": {},
   "outputs": [],
   "source": [
    "#closes tab (may close chrome as well)\n",
    "driver.close()"
   ]
  },
  {
   "cell_type": "code",
   "execution_count": null,
   "metadata": {},
   "outputs": [],
   "source": [
    "#closes chrome\n",
    "driver.quit()"
   ]
  },
  {
   "cell_type": "code",
   "execution_count": 29,
   "metadata": {},
   "outputs": [
    {
     "name": "stdout",
     "output_type": "stream",
     "text": [
      "18:43:58.325426\n",
      "18:45:00\n",
      "0:01:01.674574\n",
      "its 9:45\n"
     ]
    }
   ],
   "source": [
    "#refresh page at specific time\n",
    "\n",
    "# datetime object containing current date and time\n",
    "now = datetime.now()\n",
    "\n",
    "t1 = timedelta(hours=now.hour, minutes=now.minute, seconds=now.second, microseconds= now.microsecond)\n",
    "t2 = timedelta(hours=18, minutes=15, seconds=0)\n",
    "\n",
    "duration = t2 - t1\n",
    "\n",
    "print(t1)\n",
    "print(t2)\n",
    "print(duration)\n",
    "\n",
    "sleep = duration.total_seconds()\n",
    "\n",
    "time.sleep(sleep)\n",
    "\n",
    "print('its 9:45')"
   ]
  },
  {
   "cell_type": "code",
   "execution_count": 27,
   "metadata": {},
   "outputs": [
    {
     "ename": "KeyboardInterrupt",
     "evalue": "",
     "output_type": "error",
     "traceback": [
      "\u001b[0;31m---------------------------------------------------------------------------\u001b[0m",
      "\u001b[0;31mKeyboardInterrupt\u001b[0m                         Traceback (most recent call last)",
      "\u001b[0;32m<ipython-input-27-8f48db3c8668>\u001b[0m in \u001b[0;36m<module>\u001b[0;34m\u001b[0m\n\u001b[0;32m----> 1\u001b[0;31m \u001b[0mtime\u001b[0m\u001b[0;34m.\u001b[0m\u001b[0msleep\u001b[0m\u001b[0;34m(\u001b[0m\u001b[0msleep\u001b[0m\u001b[0;34m)\u001b[0m\u001b[0;34m\u001b[0m\u001b[0;34m\u001b[0m\u001b[0m\n\u001b[0m",
      "\u001b[0;31mKeyboardInterrupt\u001b[0m: "
     ]
    }
   ],
   "source": [
    "time.sleep(sleep)"
   ]
  },
  {
   "cell_type": "markdown",
   "metadata": {},
   "source": [
    "## login Tests"
   ]
  },
  {
   "cell_type": "code",
   "execution_count": 2,
   "metadata": {},
   "outputs": [],
   "source": [
    "def get_keys(path):\n",
    "    with open(path) as f:\n",
    "        return json.load(f)"
   ]
  },
  {
   "cell_type": "code",
   "execution_count": 3,
   "metadata": {},
   "outputs": [],
   "source": [
    "keys = get_keys(\"/Users/jason/Documents/github/.secret/shift_getter.json\")"
   ]
  },
  {
   "cell_type": "code",
   "execution_count": 4,
   "metadata": {},
   "outputs": [],
   "source": [
    "user_id = keys['id']\n",
    "key = keys['key']"
   ]
  },
  {
   "cell_type": "code",
   "execution_count": 5,
   "metadata": {},
   "outputs": [],
   "source": [
    "driver = webdriver.Safari()"
   ]
  },
  {
   "cell_type": "code",
   "execution_count": 6,
   "metadata": {},
   "outputs": [],
   "source": [
    "def login():   \n",
    "    keys = get_keys(\"/Users/jason/Documents/github/.secret/shift_getter.json\")\n",
    "    user_id = keys['id']\n",
    "    key = keys['key']\n",
    "    \n",
    "    # open instance of safari\n",
    "    #driver = webdriver.Safari()\n",
    "    \n",
    "    #opens atoz site\n",
    "    webpage = 'https://idp.amazon.work/idp/profile/SAML2/Unsolicited/SSO?providerId=idp.federate.amazon.com&target=AYABeDXV3hDUSSY25pC9f8bGHVUAIwABAAN0eG4AGkVSTDhLUjRDVUdBRFAwSzBSQlBOQlFETTMwAAEAB2F3cy1rbXMAS2Fybjphd3M6a21zOnVzLWVhc3QtMTo2NDIzOTcxNzAzNTA6a2V5LzMxYTMwMTRhLTJmZjYtNDNjYi05YTc2LTYyMzIwYzdjN2NjMwC4AQIBAHhfEd4mF0OXYA9y9TmTDqNwOjTJBgpE6Kp4%2FIYxLfav9gFsTwPCEAxqHl2ktZFPwpsjAAAAfjB8BgkqhkiG9w0BBwagbzBtAgEAMGgGCSqGSIb3DQEHATAeBglghkgBZQMEAS4wEQQMAYSBv%2Bne2vqIhDDxAgEQgDsknIw0QzgVzxA9a2gvZRKLuuurtP7HPBrAb4x5EyBoSbE6IyB3a3HlEp9IAuE9JaFAz9yeL7HBsfXWDwIAAAAADAAAEAAAAAAAAAAAAAAAAAA6U9cectPQRX1wVjjx2IYe%2F%2F%2F%2F%2FwAAAAEAAAAAAAAAAAAAAAEAAAOI%2Br90HcjVH5AvxtooT1eiVEGSHAZJEXL7bc4g5sLj5BfL5Sic%2FLmqTPot45PD%2F2%2BpWOB9Bb0%2B7njGXnCUwWwQ%2BiEC2mhUqEgkpmiAQV9YvFKtfjffi8mHyhVnUED8j5G4oIyWNVd2ZONYZUbXfU90KzZAYxAZPk3k0TbOTsthzOvepTZ11HZiKaA1LXV2IaPfDyTzN5uhlNQjEPPiUQRPw1WAdwGqb3mBYzUIRC44pRYgFmR%2FoLeUwvmKCyheAP7I5jhtnHlKSv79jBBTMeCrJ3oZgZTWyQgzRurDm%2Fs5GqyrLxgN%2BePoPmf4zuj8pupyeWYfDqgyVKGYsmbkQzi2ZOmj%2FLHlH%2F7GQ7sZKgn4u%2B6YgecgaM%2BLVzKKT42IKPf%2BiQABIgkUf1Q9eMAOP75%2B6IAlpVRnDWtShQ7FhZgVVLlVOtkk7OjBTKPW72M3lM7bILeCpDdVoNqmu6tbDw2z1NVq7L3ckAMab0oKLzptANKPE0aJkjcfPYYI1NNjuBZIy3OkiyOXKKieHoFNNcgMH6xKoSgH%2BZat472fnifEItXmNcycW64w4WKSbG5zlxNeIGcvDZ9MOHLp1sfbPjxdgayxX3dra6Mk1HfxaMOQjSvAdx92vgHhFadIUCb3j0GOkZQwgjlGZHb2wIOc0lSXht0CBsq12fFVI789PY0qtrouC3Z8hJaehBH12lspoCXwu2P9SUJGrZHvB6b5cvKNkyu0R%2FAHGyjns7stqawloIhZoDLEnHKXA3yF1F8C8qkyaK%2FocmvDYMs9OUu3lG2r%2BJp2bNLH5GVu2q%2B2FktSOq5avK6aJ4CE0WNNh%2B37L6pmKu29pLI2Ft%2BtqtYQCVBy5GGj%2BW33GDs%2BrfwNW0sl9%2B%2BEQqNJYOrdY29PE8NOc19ilFJOwUEEhfKL483elhe02iNUd8r6p4kXpg1vr4NXHC7rUC1%2Bra%2BKHGNNH%2BV5qHWH2xvoDEGweMmh5jYlXOyVZ6X1LHcrHdAzoGZHwHyUoot3RO4N%2FJeVJjXosMGixEaPC8ANo0qYgAGT8Xg3cjPHijAWnO8h3wA%2FuJVhtp7%2FK7JvkhjUsN19RgeMcwkCr4eVYt6sgCTj8f%2BMMlJMcVxx1VGf2sl%2BIjwS9n%2BVPBp9Sulwsk3AKWvbp9MtQ2r4Oyl2QdNzqOzK7MZmaGA%2BmDAXIILPBQhb1%2BDN9P47xyQD%2B8LU7OCvvcXf0ax0S06J43PHp6FWjE0lkg4%3D'\n",
    "    driver.get(webpage)\n",
    "    \n",
    "    try:\n",
    "        #enter username\n",
    "        search = WebDriverWait(driver, 20).until(\n",
    "            EC.presence_of_element_located((By.ID, 'login'))\n",
    "        )\n",
    "        search.send_keys(user_id)\n",
    "        search.send_keys(Keys.RETURN)\n",
    "        time.sleep(2)\n",
    "        \n",
    "        #enter password\n",
    "        search = WebDriverWait(driver, 20).until(\n",
    "            EC.presence_of_element_located((By.ID, 'password'))\n",
    "        )\n",
    "        search.send_keys(key)\n",
    "        search.send_keys(Keys.RETURN)\n",
    "        \n",
    "        #click to send verification code\n",
    "        search = WebDriverWait(driver, 20).until(\n",
    "            EC.presence_of_element_located((By.XPATH, '//*[@id=\"selectPhone_form\"]/div[2]/button'))\n",
    "        )\n",
    "        search.click()\n",
    "        \n",
    "    except:\n",
    "        driver.quit()\n",
    "        \n",
    "        \n",
    "    #get verification code from messages\n",
    "    time.sleep(5)\n",
    "    verification = get_code()\n",
    "    \n",
    "    #enter verification code\n",
    "    search = driver.find_element_by_id('code')\n",
    "    search.send_keys(verification)\n",
    "    search.send_keys(Keys.RETURN)\n",
    "    time.sleep(15)\n",
    "    \n",
    "    #opens page to select shifts\n",
    "    webpage = 'https://atoz.amazon.work/shifts/schedule/find?ref=nv_schd'\n",
    "    driver.get(webpage)\n",
    "    time.sleep(10)"
   ]
  },
  {
   "cell_type": "code",
   "execution_count": 8,
   "metadata": {},
   "outputs": [],
   "source": [
    "login()"
   ]
  },
  {
   "cell_type": "markdown",
   "metadata": {},
   "source": [
    "### get latest verification code"
   ]
  },
  {
   "cell_type": "code",
   "execution_count": 7,
   "metadata": {},
   "outputs": [],
   "source": [
    "def get_code():    \n",
    "    # give path to db\n",
    "    conn = sqlite3.connect(\"/Users/jason/Library/Messages/chat.db\")\n",
    "    \n",
    "    # connect to the database\n",
    "    cur = conn.cursor()\n",
    "    \n",
    "    # command to get last 10 messages\n",
    "    command1 = 'SELECT * FROM message \\\n",
    "                ORDER BY 1 \\\n",
    "                DESC LIMIT 10 '\n",
    "    \n",
    "    # executes command\n",
    "    cur.execute(command1)\n",
    "    \n",
    "    # created df from command\n",
    "    df_msg = pd.DataFrame(cur.fetchall())\n",
    "    \n",
    "    # isolate message with code\n",
    "    code = df_msg[df_msg[5]==138].iloc[0,2]\n",
    "    \n",
    "    # isolate code from text\n",
    "    verification = ''.join(i for i in code if i.isdigit())\n",
    "    \n",
    "    return verification"
   ]
  },
  {
   "cell_type": "markdown",
   "metadata": {},
   "source": [
    "### entering start/end times"
   ]
  },
  {
   "cell_type": "code",
   "execution_count": 10,
   "metadata": {},
   "outputs": [],
   "source": [
    "#paths to time inputs\n",
    "start_time = '//*[@id=\"schedule-app\"]/div/div[2]/div/div[2]/div/div[2]/div/fieldset[1]/div[2]/div/form/div/span[1]/input'\n",
    "end_time = '//*[@id=\"schedule-app\"]/div/div[2]/div/div[2]/div/div[2]/div/fieldset[1]/div[2]/div/form/div/span[3]/input'"
   ]
  },
  {
   "cell_type": "code",
   "execution_count": 12,
   "metadata": {},
   "outputs": [],
   "source": [
    "#enter a start time\n",
    "search = driver.find_element_by_xpath(start_time)\n",
    "#search.click()\n",
    "search.clear()\n",
    "time.sleep(1)\n",
    "search.send_keys('01:30 p')\n",
    "search.send_keys(Keys.RETURN)\n",
    "time.sleep(5)"
   ]
  },
  {
   "cell_type": "code",
   "execution_count": null,
   "metadata": {},
   "outputs": [],
   "source": [
    "search.get_attribute('value')"
   ]
  },
  {
   "cell_type": "code",
   "execution_count": 13,
   "metadata": {},
   "outputs": [],
   "source": [
    "#enter an end time\n",
    "search = driver.find_element_by_xpath(end_time)\n",
    "#search.click()\n",
    "search.clear()\n",
    "time.sleep(1)\n",
    "search.send_keys('08:30 pm')\n",
    "search.send_keys(Keys.RETURN)\n",
    "time.sleep(2)"
   ]
  },
  {
   "cell_type": "markdown",
   "metadata": {},
   "source": [
    "### selecting tic boxes"
   ]
  },
  {
   "cell_type": "code",
   "execution_count": 14,
   "metadata": {},
   "outputs": [],
   "source": [
    "all_tic = '//*[@id=\"schedule-app\"]/div/div[2]/div/div[2]/div/div[2]/div/fieldset[3]/div[2]/div/form/div[1]/label'\n",
    "cmk_tic = '//*[@id=\"schedule-app\"]/div/div[2]/div/div[2]/div/div[2]/div/fieldset[3]/div[2]/div/form/div[2]/label'\n",
    "lgv_tic = '//*[@id=\"schedule-app\"]/div/div[2]/div/div[2]/div/div[2]/div/fieldset[3]/div[2]/div/form/div[3]/label'\n",
    "wbu_tic = '//*[@id=\"schedule-app\"]/div/div[2]/div/div[2]/div/div[2]/div/fieldset[3]/div[2]/div/form/div[4]/label'"
   ]
  },
  {
   "cell_type": "code",
   "execution_count": 15,
   "metadata": {},
   "outputs": [],
   "source": [
    "tic_box = driver.find_element_by_xpath(wbu_tic)\n",
    "tic_box.click()"
   ]
  },
  {
   "cell_type": "markdown",
   "metadata": {},
   "source": [
    "## check to see if boxes are checked/unchecked"
   ]
  },
  {
   "cell_type": "code",
   "execution_count": 16,
   "metadata": {},
   "outputs": [],
   "source": [
    "all_check = '//*[@id=\"schedule-app\"]/div/div[2]/div/div[2]/div/div[2]/div/fieldset[3]/div[2]/div/form/div[1]/input'\n",
    "cmk_check = '//*[@id=\"schedule-app\"]/div/div[2]/div/div[2]/div/div[2]/div/fieldset[3]/div[2]/div/form/div[2]/input'\n",
    "lgv_check = '//*[@id=\"schedule-app\"]/div/div[2]/div/div[2]/div/div[2]/div/fieldset[3]/div[2]/div/form/div[3]/input'\n",
    "wbu_check = '//*[@id=\"schedule-app\"]/div/div[2]/div/div[2]/div/div[2]/div/fieldset[3]/div[2]/div/form/div[4]/input'"
   ]
  },
  {
   "cell_type": "code",
   "execution_count": 17,
   "metadata": {},
   "outputs": [],
   "source": [
    "tic_check = driver.find_element_by_xpath(cmk_check)"
   ]
  },
  {
   "cell_type": "code",
   "execution_count": 18,
   "metadata": {},
   "outputs": [
    {
     "name": "stdout",
     "output_type": "stream",
     "text": [
      "True\n"
     ]
    }
   ],
   "source": [
    "print(tic_check.is_selected())"
   ]
  },
  {
   "cell_type": "code",
   "execution_count": 19,
   "metadata": {},
   "outputs": [],
   "source": [
    "def select_site():\n",
    "    tic_check = driver.find_element_by_xpath(all_check)\n",
    "    if tic_check.is_selected():\n",
    "        # uncheck all sites\n",
    "        tic_box = driver.find_element_by_xpath(all_tic)\n",
    "        tic_box.click()\n",
    "        \n",
    "        # check cmk site\n",
    "        tic_box = driver.find_element_by_xpath(cmk_tic)\n",
    "        tic_box.click()\n",
    "    else:\n",
    "        # check all sites\n",
    "        tic_box = driver.find_element_by_xpath(all_tic)\n",
    "        tic_box.click()\n",
    "        \n",
    "        # uncheck all sites\n",
    "        tic_box = driver.find_element_by_xpath(all_tic)\n",
    "        tic_box.click()\n",
    "        \n",
    "        # check cmk site\n",
    "        tic_box = driver.find_element_by_xpath(cmk_tic)\n",
    "        tic_box.click()        "
   ]
  },
  {
   "cell_type": "code",
   "execution_count": 20,
   "metadata": {},
   "outputs": [],
   "source": [
    "select_site()"
   ]
  },
  {
   "cell_type": "markdown",
   "metadata": {},
   "source": [
    "## click on day buttons"
   ]
  },
  {
   "cell_type": "code",
   "execution_count": 22,
   "metadata": {},
   "outputs": [],
   "source": [
    "pick_day = driver.find_element_by_xpath(day3)\n",
    "pick_day.click()"
   ]
  },
  {
   "cell_type": "code",
   "execution_count": 21,
   "metadata": {},
   "outputs": [],
   "source": [
    "day3 = '//*[@id=\"daySelector\"]/div[1]/button[3]'"
   ]
  },
  {
   "cell_type": "code",
   "execution_count": null,
   "metadata": {},
   "outputs": [],
   "source": []
  },
  {
   "cell_type": "code",
   "execution_count": null,
   "metadata": {},
   "outputs": [],
   "source": [
    "#location where shift list will be (if none present will not be there)\n",
    "//*[@id=\"schedule-app\"]/div/div[2]/div/div[1]/div[2]/div[2]/div[2]/ul"
   ]
  },
  {
   "cell_type": "code",
   "execution_count": null,
   "metadata": {},
   "outputs": [],
   "source": [
    "#location of first shift button\n",
    "//*[@id=\"schedule-app\"]/div/div[2]/div/div[1]/div[2]/div[2]/div[2]/ul/li[1]/div/div/div[3]/div[2]/button"
   ]
  },
  {
   "cell_type": "markdown",
   "metadata": {},
   "source": [
    "## select shift"
   ]
  },
  {
   "cell_type": "code",
   "execution_count": null,
   "metadata": {},
   "outputs": [],
   "source": [
    "#location of first shift button\n",
    "first_shift = '//*[@id=\"schedule-app\"]/div/div[2]/div/div[1]/div[2]/div[2]/div[2]/ul/li[1]/div/div/div[3]/div[2]/button'"
   ]
  },
  {
   "cell_type": "code",
   "execution_count": null,
   "metadata": {},
   "outputs": [],
   "source": [
    "pick_shift = driver.find_element_by_xpath(first_shift)\n",
    "pick_shift.click()"
   ]
  },
  {
   "cell_type": "code",
   "execution_count": null,
   "metadata": {},
   "outputs": [],
   "source": []
  },
  {
   "cell_type": "code",
   "execution_count": null,
   "metadata": {},
   "outputs": [],
   "source": []
  },
  {
   "cell_type": "code",
   "execution_count": null,
   "metadata": {},
   "outputs": [],
   "source": []
  },
  {
   "cell_type": "code",
   "execution_count": null,
   "metadata": {},
   "outputs": [],
   "source": []
  },
  {
   "cell_type": "code",
   "execution_count": null,
   "metadata": {},
   "outputs": [],
   "source": []
  },
  {
   "cell_type": "code",
   "execution_count": null,
   "metadata": {},
   "outputs": [],
   "source": []
  },
  {
   "cell_type": "code",
   "execution_count": null,
   "metadata": {},
   "outputs": [],
   "source": []
  },
  {
   "cell_type": "code",
   "execution_count": null,
   "metadata": {},
   "outputs": [],
   "source": []
  }
 ],
 "metadata": {
  "kernelspec": {
   "display_name": "Python 3",
   "language": "python",
   "name": "python3"
  },
  "language_info": {
   "codemirror_mode": {
    "name": "ipython",
    "version": 3
   },
   "file_extension": ".py",
   "mimetype": "text/x-python",
   "name": "python",
   "nbconvert_exporter": "python",
   "pygments_lexer": "ipython3",
   "version": "3.7.6"
  }
 },
 "nbformat": 4,
 "nbformat_minor": 4
}
