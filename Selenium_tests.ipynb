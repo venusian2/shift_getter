{
 "cells": [
  {
   "cell_type": "code",
   "execution_count": 10,
   "metadata": {},
   "outputs": [],
   "source": [
    "from selenium import webdriver\n",
    "from selenium.webdriver.common.keys import Keys\n",
    "import time"
   ]
  },
  {
   "cell_type": "code",
   "execution_count": 3,
   "metadata": {},
   "outputs": [],
   "source": [
    "PATH = '/Users/jason/Documents/github/Webdrivers/chromedriver'"
   ]
  },
  {
   "cell_type": "code",
   "execution_count": 13,
   "metadata": {},
   "outputs": [],
   "source": [
    "#opens an instance of chrome\n",
    "driver = webdriver.Chrome(PATH)"
   ]
  },
  {
   "cell_type": "code",
   "execution_count": 19,
   "metadata": {},
   "outputs": [],
   "source": [
    "#opens a specific webpage\n",
    "webpage = 'https://techwithtim.net'\n",
    "driver.get(webpage)"
   ]
  },
  {
   "cell_type": "code",
   "execution_count": 21,
   "metadata": {},
   "outputs": [
    {
     "name": "stdout",
     "output_type": "stream",
     "text": [
      "Tech With Tim - Python & Java Programming Tutorials - techwithtim.net\n"
     ]
    }
   ],
   "source": [
    "#prints out title on tab\n",
    "print(driver.title)"
   ]
  },
  {
   "cell_type": "code",
   "execution_count": null,
   "metadata": {},
   "outputs": [],
   "source": [
    "#searching in html hierarchy\n",
    "#1. - id\n",
    "#2. - name\n",
    "#3. - class\n"
   ]
  },
  {
   "cell_type": "code",
   "execution_count": 17,
   "metadata": {},
   "outputs": [],
   "source": [
    "#closes tab (may close chrome as well)\n",
    "driver.close()"
   ]
  },
  {
   "cell_type": "code",
   "execution_count": 12,
   "metadata": {},
   "outputs": [],
   "source": [
    "#closes chrome\n",
    "driver.quit()"
   ]
  },
  {
   "cell_type": "markdown",
   "metadata": {},
   "source": [
    "## Amazon Tests"
   ]
  },
  {
   "cell_type": "code",
   "execution_count": null,
   "metadata": {},
   "outputs": [],
   "source": [
    "PATH = '/Users/jason/Documents/github/Webdrivers/chromedriver'"
   ]
  },
  {
   "cell_type": "code",
   "execution_count": 4,
   "metadata": {},
   "outputs": [],
   "source": [
    "#opens an instance of chrome\n",
    "driver = webdriver.Chrome(PATH)"
   ]
  },
  {
   "cell_type": "code",
   "execution_count": 14,
   "metadata": {},
   "outputs": [],
   "source": [
    "#opens atoz site\n",
    "webpage = 'https://idp.amazon.work/idp/profile/SAML2/Unsolicited/SSO?providerId=idp.federate.amazon.com&target=AYABeDXV3hDUSSY25pC9f8bGHVUAIwABAAN0eG4AGkVSTDhLUjRDVUdBRFAwSzBSQlBOQlFETTMwAAEAB2F3cy1rbXMAS2Fybjphd3M6a21zOnVzLWVhc3QtMTo2NDIzOTcxNzAzNTA6a2V5LzMxYTMwMTRhLTJmZjYtNDNjYi05YTc2LTYyMzIwYzdjN2NjMwC4AQIBAHhfEd4mF0OXYA9y9TmTDqNwOjTJBgpE6Kp4%2FIYxLfav9gFsTwPCEAxqHl2ktZFPwpsjAAAAfjB8BgkqhkiG9w0BBwagbzBtAgEAMGgGCSqGSIb3DQEHATAeBglghkgBZQMEAS4wEQQMAYSBv%2Bne2vqIhDDxAgEQgDsknIw0QzgVzxA9a2gvZRKLuuurtP7HPBrAb4x5EyBoSbE6IyB3a3HlEp9IAuE9JaFAz9yeL7HBsfXWDwIAAAAADAAAEAAAAAAAAAAAAAAAAAA6U9cectPQRX1wVjjx2IYe%2F%2F%2F%2F%2FwAAAAEAAAAAAAAAAAAAAAEAAAOI%2Br90HcjVH5AvxtooT1eiVEGSHAZJEXL7bc4g5sLj5BfL5Sic%2FLmqTPot45PD%2F2%2BpWOB9Bb0%2B7njGXnCUwWwQ%2BiEC2mhUqEgkpmiAQV9YvFKtfjffi8mHyhVnUED8j5G4oIyWNVd2ZONYZUbXfU90KzZAYxAZPk3k0TbOTsthzOvepTZ11HZiKaA1LXV2IaPfDyTzN5uhlNQjEPPiUQRPw1WAdwGqb3mBYzUIRC44pRYgFmR%2FoLeUwvmKCyheAP7I5jhtnHlKSv79jBBTMeCrJ3oZgZTWyQgzRurDm%2Fs5GqyrLxgN%2BePoPmf4zuj8pupyeWYfDqgyVKGYsmbkQzi2ZOmj%2FLHlH%2F7GQ7sZKgn4u%2B6YgecgaM%2BLVzKKT42IKPf%2BiQABIgkUf1Q9eMAOP75%2B6IAlpVRnDWtShQ7FhZgVVLlVOtkk7OjBTKPW72M3lM7bILeCpDdVoNqmu6tbDw2z1NVq7L3ckAMab0oKLzptANKPE0aJkjcfPYYI1NNjuBZIy3OkiyOXKKieHoFNNcgMH6xKoSgH%2BZat472fnifEItXmNcycW64w4WKSbG5zlxNeIGcvDZ9MOHLp1sfbPjxdgayxX3dra6Mk1HfxaMOQjSvAdx92vgHhFadIUCb3j0GOkZQwgjlGZHb2wIOc0lSXht0CBsq12fFVI789PY0qtrouC3Z8hJaehBH12lspoCXwu2P9SUJGrZHvB6b5cvKNkyu0R%2FAHGyjns7stqawloIhZoDLEnHKXA3yF1F8C8qkyaK%2FocmvDYMs9OUu3lG2r%2BJp2bNLH5GVu2q%2B2FktSOq5avK6aJ4CE0WNNh%2B37L6pmKu29pLI2Ft%2BtqtYQCVBy5GGj%2BW33GDs%2BrfwNW0sl9%2B%2BEQqNJYOrdY29PE8NOc19ilFJOwUEEhfKL483elhe02iNUd8r6p4kXpg1vr4NXHC7rUC1%2Bra%2BKHGNNH%2BV5qHWH2xvoDEGweMmh5jYlXOyVZ6X1LHcrHdAzoGZHwHyUoot3RO4N%2FJeVJjXosMGixEaPC8ANo0qYgAGT8Xg3cjPHijAWnO8h3wA%2FuJVhtp7%2FK7JvkhjUsN19RgeMcwkCr4eVYt6sgCTj8f%2BMMlJMcVxx1VGf2sl%2BIjwS9n%2BVPBp9Sulwsk3AKWvbp9MtQ2r4Oyl2QdNzqOzK7MZmaGA%2BmDAXIILPBQhb1%2BDN9P47xyQD%2B8LU7OCvvcXf0ax0S06J43PHp6FWjE0lkg4%3D'\n",
    "driver.get(webpage)"
   ]
  },
  {
   "cell_type": "code",
   "execution_count": 15,
   "metadata": {},
   "outputs": [],
   "source": [
    "#enter username\n",
    "search = driver.find_element_by_id('login')\n",
    "search.send_keys('')\n",
    "search.send_keys(Keys.RETURN)\n",
    "time.sleep(10)"
   ]
  },
  {
   "cell_type": "code",
   "execution_count": 16,
   "metadata": {},
   "outputs": [],
   "source": [
    "#enter password\n",
    "search = driver.find_element_by_id('password')\n",
    "search.send_keys('')\n",
    "search.send_keys(Keys.RETURN)\n",
    "time.sleep(10)"
   ]
  },
  {
   "cell_type": "code",
   "execution_count": 19,
   "metadata": {},
   "outputs": [],
   "source": [
    "#click continue to send verification code\n",
    "search = driver.find_element_by_class_name('form-buttons')\n",
    "search.click()\n",
    "time.sleep(10)"
   ]
  },
  {
   "cell_type": "code",
   "execution_count": null,
   "metadata": {},
   "outputs": [],
   "source": []
  }
 ],
 "metadata": {
  "kernelspec": {
   "display_name": "Python 3",
   "language": "python",
   "name": "python3"
  },
  "language_info": {
   "codemirror_mode": {
    "name": "ipython",
    "version": 3
   },
   "file_extension": ".py",
   "mimetype": "text/x-python",
   "name": "python",
   "nbconvert_exporter": "python",
   "pygments_lexer": "ipython3",
   "version": "3.7.6"
  }
 },
 "nbformat": 4,
 "nbformat_minor": 4
}
