{
 "cells": [
  {
   "cell_type": "code",
   "execution_count": 1,
   "metadata": {},
   "outputs": [],
   "source": [
    "from selenium import webdriver\n",
    "from selenium.webdriver.common.keys import Keys\n",
    "import time\n",
    "import json\n",
    "import pandas as pd\n",
    "import sqlite3"
   ]
  },
  {
   "cell_type": "code",
   "execution_count": 2,
   "metadata": {},
   "outputs": [],
   "source": [
    "def login():\n",
    "    keys = get_keys(\"/Users/jason/Documents/github/.secret/shift_getter.json\")\n",
    "    \n",
    "    user_id = keys['id']\n",
    "    key = keys['key']\n",
    "    \n",
    "    #opens an instance Safari\n",
    "    driver = webdriver.Safari()\n",
    "    \n",
    "    #opens atoz site\n",
    "    webpage = 'https://idp.amazon.work/idp/profile/SAML2/Unsolicited/SSO?providerId=idp.federate.amazon.com&target=AYABeDXV3hDUSSY25pC9f8bGHVUAIwABAAN0eG4AGkVSTDhLUjRDVUdBRFAwSzBSQlBOQlFETTMwAAEAB2F3cy1rbXMAS2Fybjphd3M6a21zOnVzLWVhc3QtMTo2NDIzOTcxNzAzNTA6a2V5LzMxYTMwMTRhLTJmZjYtNDNjYi05YTc2LTYyMzIwYzdjN2NjMwC4AQIBAHhfEd4mF0OXYA9y9TmTDqNwOjTJBgpE6Kp4%2FIYxLfav9gFsTwPCEAxqHl2ktZFPwpsjAAAAfjB8BgkqhkiG9w0BBwagbzBtAgEAMGgGCSqGSIb3DQEHATAeBglghkgBZQMEAS4wEQQMAYSBv%2Bne2vqIhDDxAgEQgDsknIw0QzgVzxA9a2gvZRKLuuurtP7HPBrAb4x5EyBoSbE6IyB3a3HlEp9IAuE9JaFAz9yeL7HBsfXWDwIAAAAADAAAEAAAAAAAAAAAAAAAAAA6U9cectPQRX1wVjjx2IYe%2F%2F%2F%2F%2FwAAAAEAAAAAAAAAAAAAAAEAAAOI%2Br90HcjVH5AvxtooT1eiVEGSHAZJEXL7bc4g5sLj5BfL5Sic%2FLmqTPot45PD%2F2%2BpWOB9Bb0%2B7njGXnCUwWwQ%2BiEC2mhUqEgkpmiAQV9YvFKtfjffi8mHyhVnUED8j5G4oIyWNVd2ZONYZUbXfU90KzZAYxAZPk3k0TbOTsthzOvepTZ11HZiKaA1LXV2IaPfDyTzN5uhlNQjEPPiUQRPw1WAdwGqb3mBYzUIRC44pRYgFmR%2FoLeUwvmKCyheAP7I5jhtnHlKSv79jBBTMeCrJ3oZgZTWyQgzRurDm%2Fs5GqyrLxgN%2BePoPmf4zuj8pupyeWYfDqgyVKGYsmbkQzi2ZOmj%2FLHlH%2F7GQ7sZKgn4u%2B6YgecgaM%2BLVzKKT42IKPf%2BiQABIgkUf1Q9eMAOP75%2B6IAlpVRnDWtShQ7FhZgVVLlVOtkk7OjBTKPW72M3lM7bILeCpDdVoNqmu6tbDw2z1NVq7L3ckAMab0oKLzptANKPE0aJkjcfPYYI1NNjuBZIy3OkiyOXKKieHoFNNcgMH6xKoSgH%2BZat472fnifEItXmNcycW64w4WKSbG5zlxNeIGcvDZ9MOHLp1sfbPjxdgayxX3dra6Mk1HfxaMOQjSvAdx92vgHhFadIUCb3j0GOkZQwgjlGZHb2wIOc0lSXht0CBsq12fFVI789PY0qtrouC3Z8hJaehBH12lspoCXwu2P9SUJGrZHvB6b5cvKNkyu0R%2FAHGyjns7stqawloIhZoDLEnHKXA3yF1F8C8qkyaK%2FocmvDYMs9OUu3lG2r%2BJp2bNLH5GVu2q%2B2FktSOq5avK6aJ4CE0WNNh%2B37L6pmKu29pLI2Ft%2BtqtYQCVBy5GGj%2BW33GDs%2BrfwNW0sl9%2B%2BEQqNJYOrdY29PE8NOc19ilFJOwUEEhfKL483elhe02iNUd8r6p4kXpg1vr4NXHC7rUC1%2Bra%2BKHGNNH%2BV5qHWH2xvoDEGweMmh5jYlXOyVZ6X1LHcrHdAzoGZHwHyUoot3RO4N%2FJeVJjXosMGixEaPC8ANo0qYgAGT8Xg3cjPHijAWnO8h3wA%2FuJVhtp7%2FK7JvkhjUsN19RgeMcwkCr4eVYt6sgCTj8f%2BMMlJMcVxx1VGf2sl%2BIjwS9n%2BVPBp9Sulwsk3AKWvbp9MtQ2r4Oyl2QdNzqOzK7MZmaGA%2BmDAXIILPBQhb1%2BDN9P47xyQD%2B8LU7OCvvcXf0ax0S06J43PHp6FWjE0lkg4%3D'\n",
    "    driver.get(webpage)\n",
    "    \n",
    "    #enter username\n",
    "    search = driver.find_element_by_id('login')\n",
    "    search.send_keys(user_id)\n",
    "    search.send_keys(Keys.RETURN)\n",
    "    time.sleep(10)\n",
    "    \n",
    "    #enter password\n",
    "    search = driver.find_element_by_id('password')\n",
    "    search.send_keys(key)\n",
    "    search.send_keys(Keys.RETURN)\n",
    "    time.sleep(10)\n",
    "    \n",
    "    #click continue to send verification code\n",
    "    search = driver.find_element_by_class_name('form-buttons')\n",
    "    search.click()\n",
    "    time.sleep(10)\n",
    "    \n",
    "    #get verification code\n",
    "    verification = verification_code()\n",
    "    \n",
    "    #enter verification code\n",
    "    search = driver.find_element_by_id('code')\n",
    "    search.send_keys(verification)\n",
    "    search.send_keys(Keys.RETURN)\n",
    "    time.sleep(15)\n",
    "    \n",
    "    #opens atoz site\n",
    "    webpage = 'https://atoz.amazon.work/shifts/schedule/find?ref=nv_schd'\n",
    "    driver.get(webpage)"
   ]
  },
  {
   "cell_type": "code",
   "execution_count": 3,
   "metadata": {},
   "outputs": [],
   "source": [
    "def verification_code():\n",
    "    # give path to db\n",
    "    conn = sqlite3.connect(\"/Users/jason/Library/Messages/chat.db\")\n",
    "    \n",
    "    # connect to the database\n",
    "    cur = conn.cursor()\n",
    "    \n",
    "    command1 = 'SELECT * FROM message \\\n",
    "            ORDER BY 1 \\\n",
    "            DESC LIMIT 10 '\n",
    "    \n",
    "    cur.execute(command1)\n",
    "    \n",
    "    df_msg = pd.DataFrame(cur.fetchall())\n",
    "    \n",
    "    code = df_msg[df_msg[5]==138].iloc[0,2]\n",
    "    \n",
    "    verification = ''.join(i for i in code if i.isdigit())\n",
    "    \n",
    "    return verification"
   ]
  },
  {
   "cell_type": "code",
   "execution_count": null,
   "metadata": {},
   "outputs": [],
   "source": []
  }
 ],
 "metadata": {
  "kernelspec": {
   "display_name": "Python 3",
   "language": "python",
   "name": "python3"
  },
  "language_info": {
   "codemirror_mode": {
    "name": "ipython",
    "version": 3
   },
   "file_extension": ".py",
   "mimetype": "text/x-python",
   "name": "python",
   "nbconvert_exporter": "python",
   "pygments_lexer": "ipython3",
   "version": "3.7.6"
  }
 },
 "nbformat": 4,
 "nbformat_minor": 4
}
