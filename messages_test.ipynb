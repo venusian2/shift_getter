{
 "cells": [
  {
   "cell_type": "code",
   "execution_count": 1,
   "metadata": {},
   "outputs": [],
   "source": [
    "import sqlite3\n",
    "import pandas as pd"
   ]
  },
  {
   "cell_type": "code",
   "execution_count": 2,
   "metadata": {},
   "outputs": [],
   "source": [
    "# give path to db\n",
    "conn = sqlite3.connect(\"/Users/jason/Library/Messages/chat.db\")"
   ]
  },
  {
   "cell_type": "code",
   "execution_count": 4,
   "metadata": {},
   "outputs": [],
   "source": [
    "# connect to the database\n",
    "cur = conn.cursor()"
   ]
  },
  {
   "cell_type": "code",
   "execution_count": 5,
   "metadata": {},
   "outputs": [
    {
     "name": "stdout",
     "output_type": "stream",
     "text": [
      "('_SqliteDatabaseProperties',)\n",
      "('deleted_messages',)\n",
      "('sqlite_sequence',)\n",
      "('chat_handle_join',)\n",
      "('sync_deleted_messages',)\n",
      "('message_processing_task',)\n",
      "('handle',)\n",
      "('sync_deleted_chats',)\n",
      "('message_attachment_join',)\n",
      "('sync_deleted_attachments',)\n",
      "('kvtable',)\n",
      "('chat_message_join',)\n",
      "('message',)\n",
      "('chat',)\n",
      "('attachment',)\n",
      "('sqlite_stat1',)\n"
     ]
    }
   ],
   "source": [
    "#displays tables in the database\n",
    "cur.execute(\" select name from sqlite_master where type = 'table' \")\n",
    "for name in cur.fetchall():\n",
    "    print(name)"
   ]
  },
  {
   "cell_type": "code",
   "execution_count": 31,
   "metadata": {},
   "outputs": [],
   "source": [
    "#gets latest 10 messages\n",
    "command1 = 'SELECT * FROM message \\\n",
    "            ORDER BY 1 \\\n",
    "            DESC LIMIT 10 '"
   ]
  },
  {
   "cell_type": "code",
   "execution_count": 32,
   "metadata": {},
   "outputs": [
    {
     "data": {
      "text/plain": [
       "<sqlite3.Cursor at 0x7fe0084709d0>"
      ]
     },
     "execution_count": 32,
     "metadata": {},
     "output_type": "execute_result"
    }
   ],
   "source": [
    "#executes our command\n",
    "cur.execute(command1)"
   ]
  },
  {
   "cell_type": "code",
   "execution_count": 33,
   "metadata": {},
   "outputs": [],
   "source": [
    "#create pandas df with sql results\n",
    "df_msg = pd.DataFrame(cur.fetchall())"
   ]
  },
  {
   "cell_type": "code",
   "execution_count": 45,
   "metadata": {},
   "outputs": [],
   "source": [
    "#gets latest verification code sent to us\n",
    "code = df_msg[df_msg[5]==138].iloc[0,2]"
   ]
  },
  {
   "cell_type": "code",
   "execution_count": 47,
   "metadata": {},
   "outputs": [],
   "source": [
    "#extracts code from message\n",
    "verification = ''.join(i for i in code if i.isdigit())"
   ]
  },
  {
   "cell_type": "code",
   "execution_count": 48,
   "metadata": {},
   "outputs": [
    {
     "data": {
      "text/plain": [
       "'512897'"
      ]
     },
     "execution_count": 48,
     "metadata": {},
     "output_type": "execute_result"
    }
   ],
   "source": [
    "verification"
   ]
  },
  {
   "cell_type": "markdown",
   "metadata": {},
   "source": [
    "#### Alternate way to query with pandas"
   ]
  },
  {
   "cell_type": "code",
   "execution_count": 6,
   "metadata": {},
   "outputs": [],
   "source": [
    "# give path to db\n",
    "conn = sqlite3.connect(\"/Users/jason/Library/Messages/chat.db\")"
   ]
  },
  {
   "cell_type": "code",
   "execution_count": 7,
   "metadata": {},
   "outputs": [],
   "source": [
    "# queries db and creates df\n",
    "df = pd.read_sql_query('SELECT * FROM message ORDER BY 1 DESC LIMIT 10', conn)"
   ]
  },
  {
   "cell_type": "code",
   "execution_count": 11,
   "metadata": {},
   "outputs": [
    {
     "data": {
      "text/html": [
       "<div>\n",
       "<style scoped>\n",
       "    .dataframe tbody tr th:only-of-type {\n",
       "        vertical-align: middle;\n",
       "    }\n",
       "\n",
       "    .dataframe tbody tr th {\n",
       "        vertical-align: top;\n",
       "    }\n",
       "\n",
       "    .dataframe thead th {\n",
       "        text-align: right;\n",
       "    }\n",
       "</style>\n",
       "<table border=\"1\" class=\"dataframe\">\n",
       "  <thead>\n",
       "    <tr style=\"text-align: right;\">\n",
       "      <th></th>\n",
       "      <th>ROWID</th>\n",
       "      <th>guid</th>\n",
       "      <th>text</th>\n",
       "      <th>replace</th>\n",
       "      <th>service_center</th>\n",
       "      <th>handle_id</th>\n",
       "      <th>subject</th>\n",
       "      <th>country</th>\n",
       "      <th>attributedBody</th>\n",
       "      <th>version</th>\n",
       "      <th>...</th>\n",
       "      <th>sr_ck_sync_state</th>\n",
       "      <th>sr_ck_record_id</th>\n",
       "      <th>sr_ck_record_change_tag</th>\n",
       "      <th>is_corrupt</th>\n",
       "      <th>reply_to_guid</th>\n",
       "      <th>sort_id</th>\n",
       "      <th>is_spam</th>\n",
       "      <th>has_unseen_mention</th>\n",
       "      <th>thread_originator_guid</th>\n",
       "      <th>thread_originator_part</th>\n",
       "    </tr>\n",
       "  </thead>\n",
       "  <tbody>\n",
       "    <tr>\n",
       "      <th>0</th>\n",
       "      <td>10059</td>\n",
       "      <td>5737CCFD-6790-B74B-EE46-479DD861EF7C</td>\n",
       "      <td>Your verification code is 402133, use this to ...</td>\n",
       "      <td>0</td>\n",
       "      <td>None</td>\n",
       "      <td>138</td>\n",
       "      <td>None</td>\n",
       "      <td>None</td>\n",
       "      <td>b'\\x04\\x0bstreamtyped\\x81\\xe8\\x03\\x84\\x01@\\x84...</td>\n",
       "      <td>10</td>\n",
       "      <td>...</td>\n",
       "      <td>0</td>\n",
       "      <td>None</td>\n",
       "      <td>None</td>\n",
       "      <td>0</td>\n",
       "      <td>A7E76720-B535-052C-9B61-BBD7F6622C8A</td>\n",
       "      <td>0</td>\n",
       "      <td>0</td>\n",
       "      <td>0</td>\n",
       "      <td>None</td>\n",
       "      <td>None</td>\n",
       "    </tr>\n",
       "    <tr>\n",
       "      <th>1</th>\n",
       "      <td>10058</td>\n",
       "      <td>0A065EFC-F02C-4AE8-9122-8B5FCD81EC0F</td>\n",
       "      <td>Lol zero</td>\n",
       "      <td>0</td>\n",
       "      <td>None</td>\n",
       "      <td>2</td>\n",
       "      <td>None</td>\n",
       "      <td>None</td>\n",
       "      <td>b'\\x04\\x0bstreamtyped\\x81\\xe8\\x03\\x84\\x01@\\x84...</td>\n",
       "      <td>10</td>\n",
       "      <td>...</td>\n",
       "      <td>0</td>\n",
       "      <td>None</td>\n",
       "      <td>None</td>\n",
       "      <td>0</td>\n",
       "      <td>None</td>\n",
       "      <td>0</td>\n",
       "      <td>0</td>\n",
       "      <td>0</td>\n",
       "      <td>None</td>\n",
       "      <td>None</td>\n",
       "    </tr>\n",
       "    <tr>\n",
       "      <th>2</th>\n",
       "      <td>10057</td>\n",
       "      <td>DC4ACA10-9E75-4C09-9AF7-649792DD344F</td>\n",
       "      <td>How many are left? I can get liquid eggs..</td>\n",
       "      <td>0</td>\n",
       "      <td>None</td>\n",
       "      <td>2</td>\n",
       "      <td>None</td>\n",
       "      <td>None</td>\n",
       "      <td>b'\\x04\\x0bstreamtyped\\x81\\xe8\\x03\\x84\\x01@\\x84...</td>\n",
       "      <td>10</td>\n",
       "      <td>...</td>\n",
       "      <td>0</td>\n",
       "      <td></td>\n",
       "      <td></td>\n",
       "      <td>0</td>\n",
       "      <td>685F1D15-C5AF-4623-97B2-45B354AE0701</td>\n",
       "      <td>0</td>\n",
       "      <td>0</td>\n",
       "      <td>0</td>\n",
       "      <td>None</td>\n",
       "      <td>None</td>\n",
       "    </tr>\n",
       "    <tr>\n",
       "      <th>3</th>\n",
       "      <td>10056</td>\n",
       "      <td>685F1D15-C5AF-4623-97B2-45B354AE0701</td>\n",
       "      <td>Yeah you should have!!</td>\n",
       "      <td>0</td>\n",
       "      <td>None</td>\n",
       "      <td>2</td>\n",
       "      <td>None</td>\n",
       "      <td>None</td>\n",
       "      <td>b'\\x04\\x0bstreamtyped\\x81\\xe8\\x03\\x84\\x01@\\x84...</td>\n",
       "      <td>10</td>\n",
       "      <td>...</td>\n",
       "      <td>0</td>\n",
       "      <td></td>\n",
       "      <td></td>\n",
       "      <td>0</td>\n",
       "      <td>C99FEB72-BC4E-43DA-877C-AB912E14806D</td>\n",
       "      <td>0</td>\n",
       "      <td>0</td>\n",
       "      <td>0</td>\n",
       "      <td>None</td>\n",
       "      <td>None</td>\n",
       "    </tr>\n",
       "    <tr>\n",
       "      <th>4</th>\n",
       "      <td>10055</td>\n",
       "      <td>C99FEB72-BC4E-43DA-877C-AB912E14806D</td>\n",
       "      <td>Oh no!!!!! I should have gotten some</td>\n",
       "      <td>0</td>\n",
       "      <td>None</td>\n",
       "      <td>2</td>\n",
       "      <td>None</td>\n",
       "      <td>None</td>\n",
       "      <td>b'\\x04\\x0bstreamtyped\\x81\\xe8\\x03\\x84\\x01@\\x84...</td>\n",
       "      <td>10</td>\n",
       "      <td>...</td>\n",
       "      <td>0</td>\n",
       "      <td>None</td>\n",
       "      <td>None</td>\n",
       "      <td>0</td>\n",
       "      <td>None</td>\n",
       "      <td>0</td>\n",
       "      <td>0</td>\n",
       "      <td>0</td>\n",
       "      <td>None</td>\n",
       "      <td>None</td>\n",
       "    </tr>\n",
       "  </tbody>\n",
       "</table>\n",
       "<p>5 rows × 74 columns</p>\n",
       "</div>"
      ],
      "text/plain": [
       "   ROWID                                  guid  \\\n",
       "0  10059  5737CCFD-6790-B74B-EE46-479DD861EF7C   \n",
       "1  10058  0A065EFC-F02C-4AE8-9122-8B5FCD81EC0F   \n",
       "2  10057  DC4ACA10-9E75-4C09-9AF7-649792DD344F   \n",
       "3  10056  685F1D15-C5AF-4623-97B2-45B354AE0701   \n",
       "4  10055  C99FEB72-BC4E-43DA-877C-AB912E14806D   \n",
       "\n",
       "                                                text  replace service_center  \\\n",
       "0  Your verification code is 402133, use this to ...        0           None   \n",
       "1                                           Lol zero        0           None   \n",
       "2         How many are left? I can get liquid eggs..        0           None   \n",
       "3                             Yeah you should have!!        0           None   \n",
       "4               Oh no!!!!! I should have gotten some        0           None   \n",
       "\n",
       "   handle_id subject country  \\\n",
       "0        138    None    None   \n",
       "1          2    None    None   \n",
       "2          2    None    None   \n",
       "3          2    None    None   \n",
       "4          2    None    None   \n",
       "\n",
       "                                      attributedBody  version  ...  \\\n",
       "0  b'\\x04\\x0bstreamtyped\\x81\\xe8\\x03\\x84\\x01@\\x84...       10  ...   \n",
       "1  b'\\x04\\x0bstreamtyped\\x81\\xe8\\x03\\x84\\x01@\\x84...       10  ...   \n",
       "2  b'\\x04\\x0bstreamtyped\\x81\\xe8\\x03\\x84\\x01@\\x84...       10  ...   \n",
       "3  b'\\x04\\x0bstreamtyped\\x81\\xe8\\x03\\x84\\x01@\\x84...       10  ...   \n",
       "4  b'\\x04\\x0bstreamtyped\\x81\\xe8\\x03\\x84\\x01@\\x84...       10  ...   \n",
       "\n",
       "   sr_ck_sync_state sr_ck_record_id sr_ck_record_change_tag is_corrupt  \\\n",
       "0                 0            None                    None          0   \n",
       "1                 0            None                    None          0   \n",
       "2                 0                                                  0   \n",
       "3                 0                                                  0   \n",
       "4                 0            None                    None          0   \n",
       "\n",
       "                          reply_to_guid  sort_id  is_spam  has_unseen_mention  \\\n",
       "0  A7E76720-B535-052C-9B61-BBD7F6622C8A        0        0                   0   \n",
       "1                                  None        0        0                   0   \n",
       "2  685F1D15-C5AF-4623-97B2-45B354AE0701        0        0                   0   \n",
       "3  C99FEB72-BC4E-43DA-877C-AB912E14806D        0        0                   0   \n",
       "4                                  None        0        0                   0   \n",
       "\n",
       "   thread_originator_guid  thread_originator_part  \n",
       "0                    None                    None  \n",
       "1                    None                    None  \n",
       "2                    None                    None  \n",
       "3                    None                    None  \n",
       "4                    None                    None  \n",
       "\n",
       "[5 rows x 74 columns]"
      ]
     },
     "execution_count": 11,
     "metadata": {},
     "output_type": "execute_result"
    }
   ],
   "source": [
    "df.head()"
   ]
  },
  {
   "cell_type": "code",
   "execution_count": 28,
   "metadata": {},
   "outputs": [],
   "source": [
    "#gets latest verification code sent to us\n",
    "code = df[df['handle_id']==138]['text'].item()"
   ]
  },
  {
   "cell_type": "code",
   "execution_count": 29,
   "metadata": {},
   "outputs": [
    {
     "data": {
      "text/plain": [
       "'Your verification code is 402133, use this to access Amazon A to Z.'"
      ]
     },
     "execution_count": 29,
     "metadata": {},
     "output_type": "execute_result"
    }
   ],
   "source": [
    "code"
   ]
  },
  {
   "cell_type": "code",
   "execution_count": 30,
   "metadata": {},
   "outputs": [],
   "source": [
    "#extracts code from message\n",
    "verification = ''.join(i for i in code if i.isdigit())"
   ]
  },
  {
   "cell_type": "code",
   "execution_count": 31,
   "metadata": {},
   "outputs": [
    {
     "data": {
      "text/plain": [
       "'402133'"
      ]
     },
     "execution_count": 31,
     "metadata": {},
     "output_type": "execute_result"
    }
   ],
   "source": [
    "verification"
   ]
  },
  {
   "cell_type": "code",
   "execution_count": null,
   "metadata": {},
   "outputs": [],
   "source": []
  }
 ],
 "metadata": {
  "kernelspec": {
   "display_name": "Python 3",
   "language": "python",
   "name": "python3"
  },
  "language_info": {
   "codemirror_mode": {
    "name": "ipython",
    "version": 3
   },
   "file_extension": ".py",
   "mimetype": "text/x-python",
   "name": "python",
   "nbconvert_exporter": "python",
   "pygments_lexer": "ipython3",
   "version": "3.7.6"
  }
 },
 "nbformat": 4,
 "nbformat_minor": 4
}
